{
 "cells": [
  {
   "cell_type": "markdown",
   "id": "4d2419c8-e6ea-4282-bee4-81003bc5cde6",
   "metadata": {},
   "source": [
    "## 1. if문의 기본 구조"
   ]
  },
  {
   "cell_type": "code",
   "execution_count": 8,
   "id": "f6354e97-ebb4-4d65-ad51-e2c638fc2958",
   "metadata": {},
   "outputs": [
    {
     "ename": "IndentationError",
     "evalue": "unexpected indent (199306931.py, line 5)",
     "output_type": "error",
     "traceback": [
      "\u001b[1;36m  Cell \u001b[1;32mIn[8], line 5\u001b[1;36m\u001b[0m\n\u001b[1;33m    print(\"가라\")\u001b[0m\n\u001b[1;37m    ^\u001b[0m\n\u001b[1;31mIndentationError\u001b[0m\u001b[1;31m:\u001b[0m unexpected indent\n"
     ]
    }
   ],
   "source": [
    "money = true\n",
    "if money:\n",
    "    print (\"택시를\")\n",
    "print(\"타고\")\n",
    " print(\"가라\")"
   ]
  },
  {
   "cell_type": "markdown",
   "id": "f82894e1-9b2b-4d43-adc3-985715d9ad82",
   "metadata": {},
   "source": [
    "## 비교 연산자"
   ]
  },
  {
   "cell_type": "code",
   "execution_count": 9,
   "id": "c71f3616-fe08-4581-bc45-ddbf33f412d8",
   "metadata": {},
   "outputs": [
    {
     "name": "stdout",
     "output_type": "stream",
     "text": [
      "True\n",
      "False\n",
      "False\n",
      "True\n"
     ]
    }
   ],
   "source": [
    "# 비교 연산자\n",
    "x = 3\n",
    "y = 2\n",
    "print(x>y) # ture\n",
    "print (x<y) #false\n",
    "print (x==y) #false\n",
    "print (x!=y) #true"
   ]
  },
  {
   "cell_type": "code",
   "execution_count": 12,
   "id": "369f23f2-7a66-4c1c-8713-1afa9e39190e",
   "metadata": {},
   "outputs": [
    {
     "ename": "IndentationError",
     "evalue": "expected an indented block after 'if' statement on line 3 (297439923.py, line 4)",
     "output_type": "error",
     "traceback": [
      "\u001b[1;36m  Cell \u001b[1;32mIn[12], line 4\u001b[1;36m\u001b[0m\n\u001b[1;33m    print(\"택시를 타고 가라\")\u001b[0m\n\u001b[1;37m    ^\u001b[0m\n\u001b[1;31mIndentationError\u001b[0m\u001b[1;31m:\u001b[0m expected an indented block after 'if' statement on line 3\n"
     ]
    }
   ],
   "source": [
    "money = 2000\n",
    "\n",
    "if money >=3000:\n",
    "print(\"택시를 타고 가라\")\n",
    "   else: \n",
    "    print(\"걸어가라\")"
   ]
  },
  {
   "cell_type": "code",
   "execution_count": 13,
   "id": "1586aff5-03c9-4fe5-af90-dafad1165cba",
   "metadata": {},
   "outputs": [
    {
     "data": {
      "text/plain": [
       "3"
      ]
     },
     "execution_count": 13,
     "metadata": {},
     "output_type": "execute_result"
    }
   ],
   "source": [
    "x or y"
   ]
  },
  {
   "cell_type": "code",
   "execution_count": 14,
   "id": "898a4cfe-64c4-4443-91d7-b24e5e5fb846",
   "metadata": {},
   "outputs": [
    {
     "data": {
      "text/plain": [
       "2"
      ]
     },
     "execution_count": 14,
     "metadata": {},
     "output_type": "execute_result"
    }
   ],
   "source": [
    "x and y"
   ]
  },
  {
   "cell_type": "code",
   "execution_count": 15,
   "id": "04eb3f48-7a5d-41fe-a2ec-5f9eee9cc2b1",
   "metadata": {},
   "outputs": [
    {
     "data": {
      "text/plain": [
       "False"
      ]
     },
     "execution_count": 15,
     "metadata": {},
     "output_type": "execute_result"
    }
   ],
   "source": [
    "not x"
   ]
  },
  {
   "cell_type": "code",
   "execution_count": 18,
   "id": "9df2317e-af3c-4678-9d0d-5b31ade28c4b",
   "metadata": {},
   "outputs": [
    {
     "data": {
      "text/plain": [
       "True"
      ]
     },
     "execution_count": 18,
     "metadata": {},
     "output_type": "execute_result"
    }
   ],
   "source": [
    "1 in [1,2,3]"
   ]
  },
  {
   "cell_type": "code",
   "execution_count": 19,
   "id": "bb43d488-8222-4cc6-8b1c-c9d7827dc4f3",
   "metadata": {},
   "outputs": [
    {
     "data": {
      "text/plain": [
       "False"
      ]
     },
     "execution_count": 19,
     "metadata": {},
     "output_type": "execute_result"
    }
   ],
   "source": [
    "1 not in [1,2,3]"
   ]
  },
  {
   "cell_type": "code",
   "execution_count": 20,
   "id": "e7963bf7-f160-44f6-9a01-4dcb51337ce1",
   "metadata": {},
   "outputs": [
    {
     "ename": "SyntaxError",
     "evalue": "invalid syntax (3196252266.py, line 1)",
     "output_type": "error",
     "traceback": [
      "\u001b[1;36m  Cell \u001b[1;32mIn[20], line 1\u001b[1;36m\u001b[0m\n\u001b[1;33m    'd' is not in ('a','b','c')\u001b[0m\n\u001b[1;37m               ^\u001b[0m\n\u001b[1;31mSyntaxError\u001b[0m\u001b[1;31m:\u001b[0m invalid syntax\n"
     ]
    }
   ],
   "source": [
    "'d' is not in ('a','b','c')"
   ]
  },
  {
   "cell_type": "code",
   "execution_count": 21,
   "id": "3291d5a8-9cf3-4434-b656-25fb7a992dbd",
   "metadata": {},
   "outputs": [
    {
     "name": "stdout",
     "output_type": "stream",
     "text": [
      "택시를 타고 가라\n"
     ]
    }
   ],
   "source": [
    "poket = ['paper', 'callphone', 'money']\n",
    "\n",
    "if 'money'in poket:\n",
    "    print(\"택시를 타고 가라\")\n",
    "else:\n",
    "    print(\"걸어가라\")"
   ]
  },
  {
   "cell_type": "code",
   "execution_count": 23,
   "id": "e69397b6-daf0-4919-881d-999eb7fd0f44",
   "metadata": {},
   "outputs": [],
   "source": [
    "# pass : 실행문 실행하지 않고 넘어가기\n",
    "pokat = ['paper','callphone','money']\n",
    "\n",
    "if 'money' in poket:\n",
    "    pass\n",
    "else:\n",
    "    print(\"카드를 꺼내라\")"
   ]
  },
  {
   "cell_type": "markdown",
   "id": "514691d0-435f-4e59-ab75-0284cf70c49f",
   "metadata": {},
   "source": [
    "## 3. 다양한 조건을 판단하는 elif"
   ]
  },
  {
   "cell_type": "code",
   "execution_count": 24,
   "id": "c890fb23-da40-4c3a-9514-3eb511a86593",
   "metadata": {},
   "outputs": [
    {
     "name": "stdout",
     "output_type": "stream",
     "text": [
      "걸어가라\n"
     ]
    }
   ],
   "source": [
    "pocket = [ 'paper', 'cellphone']\n",
    "card = True\n",
    "\n",
    "if 'money' in pocket:\n",
    "    print(\"택시를 타고 가라\")\n",
    "else:\n",
    "    print(\"걸어가라\")"
   ]
  },
  {
   "cell_type": "markdown",
   "id": "dfb55e15-1a95-4070-86f5-3fc938b54e2c",
   "metadata": {},
   "source": [
    "math = 60\n",
    "\n",
    "if math >=90:\n",
    "  print('A')\n",
    "elif math>=80:\n",
    "    print('B')\n",
    "    elif math>=70:\n",
    "    print('C')\n",
    "    elif math>=60:\n",
    "    print('D')\n",
    "elif \n",
    "print"
   ]
  },
  {
   "cell_type": "markdown",
   "id": "d13b3ba7-ad17-4181-a583-ddaf81f7297f",
   "metadata": {},
   "source": [
    "## 4. 조건부 표현식"
   ]
  },
  {
   "cell_type": "code",
   "execution_count": 26,
   "id": "dbee42df-ebac-405e-b05c-e169f71df9ff",
   "metadata": {},
   "outputs": [
    {
     "ename": "SyntaxError",
     "evalue": "invalid syntax (3413151028.py, line 5)",
     "output_type": "error",
     "traceback": [
      "\u001b[1;36m  Cell \u001b[1;32mIn[26], line 5\u001b[1;36m\u001b[0m\n\u001b[1;33m    elsw:\u001b[0m\n\u001b[1;37m         ^\u001b[0m\n\u001b[1;31mSyntaxError\u001b[0m\u001b[1;31m:\u001b[0m invalid syntax\n"
     ]
    }
   ],
   "source": [
    "score=50\n",
    "\n",
    "if score >=60:\n",
    "    massage=\"success\"\n",
    "elsw:\n",
    "massage=\"failure\""
   ]
  },
  {
   "cell_type": "code",
   "execution_count": 27,
   "id": "d0b05dc3-c6fe-4757-ac27-4e4c5977d51c",
   "metadata": {},
   "outputs": [
    {
     "ename": "NameError",
     "evalue": "name 'score' is not defined",
     "output_type": "error",
     "traceback": [
      "\u001b[1;31m---------------------------------------------------------------------------\u001b[0m",
      "\u001b[1;31mNameError\u001b[0m                                 Traceback (most recent call last)",
      "Cell \u001b[1;32mIn[27], line 1\u001b[0m\n\u001b[1;32m----> 1\u001b[0m message \u001b[38;5;241m=\u001b[39m\u001b[38;5;124m\"\u001b[39m\u001b[38;5;124msuccess\u001b[39m\u001b[38;5;124m\"\u001b[39m \u001b[38;5;28;01mif\u001b[39;00m score \u001b[38;5;241m>\u001b[39m\u001b[38;5;241m=\u001b[39m \u001b[38;5;241m60\u001b[39m \u001b[38;5;28;01melse\u001b[39;00m \u001b[38;5;124m\"\u001b[39m\u001b[38;5;124mfailure\u001b[39m\u001b[38;5;124m\"\u001b[39m\n\u001b[0;32m      3\u001b[0m \u001b[38;5;28mprint\u001b[39m(message)\n",
      "\u001b[1;31mNameError\u001b[0m: name 'score' is not defined"
     ]
    }
   ],
   "source": [
    "message =\"success\" if score >= 60 else \"failure\"\n",
    "\n",
    "print(message)"
   ]
  },
  {
   "cell_type": "code",
   "execution_count": null,
   "id": "2c493c5c-7282-4ed6-a57b-fc55c86b0f4e",
   "metadata": {},
   "outputs": [],
   "source": []
  }
 ],
 "metadata": {
  "kernelspec": {
   "display_name": "Python [conda env:base] *",
   "language": "python",
   "name": "conda-base-py"
  },
  "language_info": {
   "codemirror_mode": {
    "name": "ipython",
    "version": 3
   },
   "file_extension": ".py",
   "mimetype": "text/x-python",
   "name": "python",
   "nbconvert_exporter": "python",
   "pygments_lexer": "ipython3",
   "version": "3.13.5"
  }
 },
 "nbformat": 4,
 "nbformat_minor": 5
}
