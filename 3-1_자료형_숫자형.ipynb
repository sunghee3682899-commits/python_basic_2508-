{
 "cells": [
  {
   "cell_type": "markdown",
   "id": "acc2bd9f-4f9e-4ffc-8c1c-a90ca580dfe7",
   "metadata": {},
   "source": [
    "# python 시작\n",
    "## 1. 자료형 - 숫자"
   ]
  },
  {
   "cell_type": "markdown",
   "id": "9b713fa8-888c-4903-8334-b51c361a023c",
   "metadata": {},
   "source": [
    "print('hello python!!')"
   ]
  },
  {
   "cell_type": "markdown",
   "id": "4f794b85-cc7e-4a00-86ab-854d3102c75c",
   "metadata": {},
   "source": [
    "a"
   ]
  },
  {
   "cell_type": "markdown",
   "id": "aa036dca-cb2f-497e-b9a4-362f71f4ad84",
   "metadata": {},
   "source": [
    "a= 123"
   ]
  },
  {
   "cell_type": "markdown",
   "id": "3f223140-2f93-4625-9d6e-b1774966bd28",
   "metadata": {},
   "source": [
    "a = -178\n",
    "a"
   ]
  },
  {
   "cell_type": "code",
   "execution_count": null,
   "id": "0795b63e-c194-45cf-bdc5-b5c1621da2c0",
   "metadata": {},
   "outputs": [],
   "source": []
  },
  {
   "cell_type": "markdown",
   "id": "9d462026-6ceb-4e34-bce5-8c1cbb146b46",
   "metadata": {},
   "source": [
    "a = 0\n",
    "a"
   ]
  },
  {
   "cell_type": "markdown",
   "id": "91db97eb-8ab0-4639-bcec-930e22fd397e",
   "metadata": {},
   "source": [
    "type(a)"
   ]
  },
  {
   "cell_type": "markdown",
   "id": "076bdd46-22ef-479b-bc01-922a0193685a",
   "metadata": {},
   "source": [
    "a=1.2 \n",
    "print (a)\n",
    "print (type(a))"
   ]
  },
  {
   "cell_type": "markdown",
   "id": "d083eeaa-12d6-4649-ae6a-a6808788952e",
   "metadata": {},
   "source": [
    "a = 3.45"
   ]
  },
  {
   "cell_type": "markdown",
   "id": "e89461e1-2945-4194-ba0f-97e51cbe14d6",
   "metadata": {},
   "source": [
    "print(a)"
   ]
  },
  {
   "cell_type": "markdown",
   "id": "6efae406-2be2-4ea9-9c61-61099147f105",
   "metadata": {},
   "source": [
    "a = 0o177\n",
    "print(a)\n",
    "print(type(a))"
   ]
  },
  {
   "cell_type": "markdown",
   "id": "f3ac1e3f-8b68-47a7-bbf0-8b9d0ce14bde",
   "metadata": {},
   "source": [
    "a=3\n",
    "b=4\n",
    "a+b"
   ]
  },
  {
   "cell_type": "markdown",
   "id": "8912d131-620a-46e1-8435-82e01987cdd7",
   "metadata": {},
   "source": [
    "a/b"
   ]
  },
  {
   "cell_type": "markdown",
   "id": "bc8265e8-33a1-4945-9888-e4832e05b3a0",
   "metadata": {},
   "source": [
    "a*b"
   ]
  },
  {
   "cell_type": "markdown",
   "id": "cec85c9e-9c4d-447a-8cf7-9c049b7ff7db",
   "metadata": {},
   "source": [
    "a=3\n",
    "b=4\n",
    "a**b"
   ]
  },
  {
   "cell_type": "markdown",
   "id": "64664dbb-0972-404d-b32b-ce62cf67b36b",
   "metadata": {},
   "source": [
    "7 % 3"
   ]
  },
  {
   "cell_type": "markdown",
   "id": "d865bcd6-ecc5-4adf-a7dc-ab0c8763bfd3",
   "metadata": {},
   "source": [
    "4%2"
   ]
  },
  {
   "cell_type": "markdown",
   "id": "dfab8e7a-6dca-43d6-8df1-f59ad280dc6d",
   "metadata": {},
   "source": [
    "7//4"
   ]
  },
  {
   "cell_type": "markdown",
   "id": "5dd21c91-3c20-4f7b-92ff-3077d2fdca01",
   "metadata": {},
   "source": [
    "7%4"
   ]
  },
  {
   "cell_type": "markdown",
   "id": "9df6e857-da6a-460b-882c-39da822ebcb4",
   "metadata": {},
   "source": [
    "10/4"
   ]
  },
  {
   "cell_type": "code",
   "execution_count": null,
   "id": "5574587f-b4cf-4346-9adb-b9d4546ed453",
   "metadata": {},
   "outputs": [],
   "source": []
  },
  {
   "cell_type": "markdown",
   "id": "9d63b667-8613-4de6-9466-a3f63c623853",
   "metadata": {},
   "source": []
  },
  {
   "cell_type": "markdown",
   "id": "ef32bcfb-3bfb-4c9e-ba3c-990d553ff59a",
   "metadata": {},
   "source": []
  },
  {
   "cell_type": "markdown",
   "id": "cc9b77ff-ec9e-4fe6-82fe-3f2f86f4c959",
   "metadata": {},
   "source": []
  }
 ],
 "metadata": {
  "kernelspec": {
   "display_name": "Python [conda env:base] *",
   "language": "python",
   "name": "conda-base-py"
  },
  "language_info": {
   "codemirror_mode": {
    "name": "ipython",
    "version": 3
   },
   "file_extension": ".py",
   "mimetype": "text/x-python",
   "name": "python",
   "nbconvert_exporter": "python",
   "pygments_lexer": "ipython3",
   "version": "3.13.5"
  }
 },
 "nbformat": 4,
 "nbformat_minor": 5
}
