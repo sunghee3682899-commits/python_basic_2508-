{
 "cells": [
  {
   "cell_type": "markdown",
   "id": "5a37f3ce-a19d-4a65-bc69-c83e83cca385",
   "metadata": {},
   "source": [
    "# 1. 딕셔너리는 어떻게 만들까?"
   ]
  },
  {
   "cell_type": "code",
   "execution_count": 1,
   "id": "8179610b-e527-4e7c-9a70-63e1e7c396ad",
   "metadata": {},
   "outputs": [
    {
     "data": {
      "text/plain": [
       "dict"
      ]
     },
     "execution_count": 1,
     "metadata": {},
     "output_type": "execute_result"
    }
   ],
   "source": [
    "dic = {'name':'hee', 'phone':'010-1111-1111','birth': '0628' }\n",
    "type(dic)"
   ]
  },
  {
   "cell_type": "code",
   "execution_count": 3,
   "id": "8a8c923d-03cf-40f2-8bfa-613d2abf2174",
   "metadata": {},
   "outputs": [
    {
     "data": {
      "text/plain": [
       "'hee'"
      ]
     },
     "execution_count": 3,
     "metadata": {},
     "output_type": "execute_result"
    }
   ],
   "source": [
    "dic['name']"
   ]
  },
  {
   "cell_type": "code",
   "execution_count": 4,
   "id": "63ca6e4c-4df0-4ace-9a23-48e73c62ab62",
   "metadata": {},
   "outputs": [
    {
     "data": {
      "text/plain": [
       "'010-1111-1111'"
      ]
     },
     "execution_count": 4,
     "metadata": {},
     "output_type": "execute_result"
    }
   ],
   "source": [
    "dic['phone']"
   ]
  },
  {
   "cell_type": "code",
   "execution_count": 5,
   "id": "a4d9028d-45c2-47ac-b3eb-fa13a634be3a",
   "metadata": {},
   "outputs": [
    {
     "data": {
      "text/plain": [
       "'0628'"
      ]
     },
     "execution_count": 5,
     "metadata": {},
     "output_type": "execute_result"
    }
   ],
   "source": [
    "dic['birth']"
   ]
  },
  {
   "cell_type": "code",
   "execution_count": 6,
   "id": "7f92df2a-1e6b-41e4-863d-f197a154be9b",
   "metadata": {},
   "outputs": [
    {
     "data": {
      "text/plain": [
       "{'a': [1, 2, 3]}"
      ]
     },
     "execution_count": 6,
     "metadata": {},
     "output_type": "execute_result"
    }
   ],
   "source": [
    "a = {'a': [1,2,3]}\n",
    "a"
   ]
  },
  {
   "cell_type": "markdown",
   "id": "57d5717d-4535-4cee-9d13-635c91799979",
   "metadata": {},
   "source": [
    "## 3. 딕셔너리 쌍 추가, 삭제하기"
   ]
  },
  {
   "cell_type": "code",
   "execution_count": 7,
   "id": "2f7f437f-064f-49ef-8ba5-c0c8f442d4f3",
   "metadata": {},
   "outputs": [
    {
     "data": {
      "text/plain": [
       "{1: 'a', 2: 'b'}"
      ]
     },
     "execution_count": 7,
     "metadata": {},
     "output_type": "execute_result"
    }
   ],
   "source": [
    "a = {1: 'a'}\n",
    "a[2] = 'b'\n",
    "a"
   ]
  },
  {
   "cell_type": "code",
   "execution_count": 8,
   "id": "5f13d049-7749-4491-a1c9-5fda12a65ebe",
   "metadata": {},
   "outputs": [
    {
     "data": {
      "text/plain": [
       "{1: 'a', 2: 'b', 'name': 'hee'}"
      ]
     },
     "execution_count": 8,
     "metadata": {},
     "output_type": "execute_result"
    }
   ],
   "source": [
    "a['name']='hee'\n",
    "a"
   ]
  },
  {
   "cell_type": "code",
   "execution_count": 9,
   "id": "5345aa72-0a23-4344-bcc1-610372a2bb21",
   "metadata": {},
   "outputs": [
    {
     "data": {
      "text/plain": [
       "{1: 'a', 2: 'b', 'name': 'hee', 3: [1, 2, 3]}"
      ]
     },
     "execution_count": 9,
     "metadata": {},
     "output_type": "execute_result"
    }
   ],
   "source": [
    "a[3]=[1,2,3]\n",
    "a"
   ]
  },
  {
   "cell_type": "code",
   "execution_count": 11,
   "id": "8a19a421-d409-4600-897a-bbe324b2e1ec",
   "metadata": {},
   "outputs": [
    {
     "data": {
      "text/plain": [
       "{1: 'a',\n",
       " 2: 'b',\n",
       " 'name': 'hee',\n",
       " 3: [1, 2, 3],\n",
       " 'hobby': {'a': [1, 2, 3], 'b': 'sport'}}"
      ]
     },
     "execution_count": 11,
     "metadata": {},
     "output_type": "execute_result"
    }
   ],
   "source": [
    "a['hobby']= {'a':[1,2,3], 'b':'sport'}\n",
    "a"
   ]
  },
  {
   "cell_type": "code",
   "execution_count": 12,
   "id": "442677a5-1f6a-4af4-a496-90326d87a761",
   "metadata": {},
   "outputs": [
    {
     "data": {
      "text/plain": [
       "{1: 'a', 2: 'b', 'name': 'hee', 3: [1, 2, 3]}"
      ]
     },
     "execution_count": 12,
     "metadata": {},
     "output_type": "execute_result"
    }
   ],
   "source": [
    "del a['hobby']\n",
    "a"
   ]
  },
  {
   "cell_type": "code",
   "execution_count": 13,
   "id": "8e470a55-efc5-495f-87e7-77e9c6c60e47",
   "metadata": {},
   "outputs": [
    {
     "data": {
      "text/plain": [
       "{1: 'a', 'name': 'hee', 3: [1, 2, 3]}"
      ]
     },
     "execution_count": 13,
     "metadata": {},
     "output_type": "execute_result"
    }
   ],
   "source": [
    "del a[2]\n",
    "a"
   ]
  },
  {
   "cell_type": "markdown",
   "id": "930e5d47-60eb-4485-9181-3eb313e2f07e",
   "metadata": {},
   "source": [
    "# 4. 딕셔너리를 사용하는 방법"
   ]
  },
  {
   "cell_type": "code",
   "execution_count": 14,
   "id": "457c1ad3-5385-44d0-9357-3beba0f818f9",
   "metadata": {},
   "outputs": [
    {
     "data": {
      "text/plain": [
       "'a'"
      ]
     },
     "execution_count": 14,
     "metadata": {},
     "output_type": "execute_result"
    }
   ],
   "source": [
    "a ={1: 'a',2: 'b'}\n",
    "a[1]"
   ]
  },
  {
   "cell_type": "code",
   "execution_count": 16,
   "id": "d501fd7f-3642-4ea9-9e60-cb7009345f5a",
   "metadata": {},
   "outputs": [
    {
     "data": {
      "text/plain": [
       "{1: 'b'}"
      ]
     },
     "execution_count": 16,
     "metadata": {},
     "output_type": "execute_result"
    }
   ],
   "source": [
    "# 딕셔너리 만들때 주의 사항\n",
    "a ={1: 'a', 1: 'b'}\n",
    "a"
   ]
  },
  {
   "cell_type": "code",
   "execution_count": 17,
   "id": "392eeaa8-e99b-4a3e-a4cb-693d2c55b707",
   "metadata": {},
   "outputs": [
    {
     "ename": "TypeError",
     "evalue": "unhashable type: 'list'",
     "output_type": "error",
     "traceback": [
      "\u001b[1;31m---------------------------------------------------------------------------\u001b[0m",
      "\u001b[1;31mTypeError\u001b[0m                                 Traceback (most recent call last)",
      "Cell \u001b[1;32mIn[17], line 1\u001b[0m\n\u001b[1;32m----> 1\u001b[0m a \u001b[38;5;241m=\u001b[39m {[\u001b[38;5;241m1\u001b[39m,\u001b[38;5;241m2\u001b[39m]: \u001b[38;5;124m'\u001b[39m\u001b[38;5;124mhi\u001b[39m\u001b[38;5;124m'\u001b[39m}\n",
      "\u001b[1;31mTypeError\u001b[0m: unhashable type: 'list'"
     ]
    }
   ],
   "source": [
    "a = {[1,2]: 'hi'}"
   ]
  },
  {
   "cell_type": "code",
   "execution_count": 18,
   "id": "ba330b6f-b316-49db-b3e1-dc99589eafd4",
   "metadata": {},
   "outputs": [
    {
     "ename": "SyntaxError",
     "evalue": "invalid syntax (1695001506.py, line 2)",
     "output_type": "error",
     "traceback": [
      "\u001b[1;36m  Cell \u001b[1;32mIn[18], line 2\u001b[1;36m\u001b[0m\n\u001b[1;33m    a = {[1,2] ;'hi'}\u001b[0m\n\u001b[1;37m               ^\u001b[0m\n\u001b[1;31mSyntaxError\u001b[0m\u001b[1;31m:\u001b[0m invalid syntax\n"
     ]
    }
   ],
   "source": [
    "# 키는 리스트 불가 (문자, 숫자열 가능)\n",
    "a = {[1,2] ;'hi'}"
   ]
  },
  {
   "cell_type": "markdown",
   "id": "4760e3cc-28c9-428d-bd16-6362162299d0",
   "metadata": {},
   "source": [
    "## 5. 딕셔너리 오함수"
   ]
  },
  {
   "cell_type": "code",
   "execution_count": 20,
   "id": "90df58d7-0e75-488e-bab1-88595c8179a7",
   "metadata": {},
   "outputs": [
    {
     "data": {
      "text/plain": [
       "dict_keys(['name', 'phone', 'birth'])"
      ]
     },
     "execution_count": 20,
     "metadata": {},
     "output_type": "execute_result"
    }
   ],
   "source": [
    "# keys() : key리스트 만들기\n",
    "dic = {'name':'hee', 'phone':'010-1111-1111','birth': '0628' }\n",
    "dic.keys()"
   ]
  },
  {
   "cell_type": "code",
   "execution_count": 22,
   "id": "90825514-98b3-4dd8-98f8-a73ba687ec94",
   "metadata": {},
   "outputs": [
    {
     "name": "stdout",
     "output_type": "stream",
     "text": [
      "name\n",
      "phone\n",
      "birth\n"
     ]
    }
   ],
   "source": [
    "for k in dic.keys():\n",
    " print(k)"
   ]
  },
  {
   "cell_type": "code",
   "execution_count": 25,
   "id": "813c1bbb-ea1f-438a-bfc6-30a141736b90",
   "metadata": {},
   "outputs": [
    {
     "data": {
      "text/plain": [
       "dict_items([('name', 'hee'), ('phone', '010-1111-1111'), ('birth', '0628')])"
      ]
     },
     "execution_count": 25,
     "metadata": {},
     "output_type": "execute_result"
    }
   ],
   "source": [
    "# itmes() key, value \n",
    "dic.items()"
   ]
  },
  {
   "cell_type": "code",
   "execution_count": 26,
   "id": "dd4f1b3c-93c1-434a-8854-f275fec947f1",
   "metadata": {},
   "outputs": [
    {
     "data": {
      "text/plain": [
       "{'name': 'hee', 'phone': '010-1111-1111', 'birth': '0628'}"
      ]
     },
     "execution_count": 26,
     "metadata": {},
     "output_type": "execute_result"
    }
   ],
   "source": [
    "dic"
   ]
  },
  {
   "cell_type": "code",
   "execution_count": 27,
   "id": "1047714b-1f7a-4f35-a0d8-d4999c712969",
   "metadata": {},
   "outputs": [
    {
     "data": {
      "text/plain": [
       "{}"
      ]
     },
     "execution_count": 27,
     "metadata": {},
     "output_type": "execute_result"
    }
   ],
   "source": [
    "# clear() 모두 지우기\n",
    "dic.clear()\n",
    "dic"
   ]
  },
  {
   "cell_type": "code",
   "execution_count": 29,
   "id": "9b04dc1f-e032-4725-a523-bc605c74e8bd",
   "metadata": {},
   "outputs": [
    {
     "data": {
      "text/plain": [
       "dict"
      ]
     },
     "execution_count": 29,
     "metadata": {},
     "output_type": "execute_result"
    }
   ],
   "source": [
    "type(dic)"
   ]
  },
  {
   "cell_type": "code",
   "execution_count": 30,
   "id": "c54073e8-d510-4a32-b9f7-d2fd374c5cd4",
   "metadata": {},
   "outputs": [
    {
     "data": {
      "text/plain": [
       "{'name': 'ajw'}"
      ]
     },
     "execution_count": 30,
     "metadata": {},
     "output_type": "execute_result"
    }
   ],
   "source": [
    "dic['name'] = 'ajw'\n",
    "dic"
   ]
  },
  {
   "cell_type": "code",
   "execution_count": 32,
   "id": "a3cd6997-e1a2-4e06-bc20-cd5f1b0f3175",
   "metadata": {},
   "outputs": [
    {
     "data": {
      "text/plain": [
       "{'name': 'ajw', 'phone': '010-2222-2222', 'birth': '0628'}"
      ]
     },
     "execution_count": 32,
     "metadata": {},
     "output_type": "execute_result"
    }
   ],
   "source": [
    "dic['phone'] = '010-2222-2222'\n",
    "dic ['birth'] = '0628'\n",
    "dic"
   ]
  },
  {
   "cell_type": "code",
   "execution_count": 34,
   "id": "8af31911-e90a-4f40-8de1-98c6a2badfc6",
   "metadata": {},
   "outputs": [
    {
     "name": "stdout",
     "output_type": "stream",
     "text": [
      "ajw\n"
     ]
    }
   ],
   "source": [
    "print (dic['name'])"
   ]
  },
  {
   "cell_type": "code",
   "execution_count": 37,
   "id": "1224ba99-213e-469e-87c2-e42e3488cee3",
   "metadata": {},
   "outputs": [
    {
     "name": "stdout",
     "output_type": "stream",
     "text": [
      "내 이름은 ajw\n"
     ]
    }
   ],
   "source": [
    "print(f\"내 이름은 {dic ['name']}\")\n"
   ]
  },
  {
   "cell_type": "code",
   "execution_count": 40,
   "id": "780a7d67-c773-466d-8bef-b5ddcfe96ff9",
   "metadata": {},
   "outputs": [
    {
     "name": "stdout",
     "output_type": "stream",
     "text": [
      "내 전화번호 는 010-2222-2222 입니다.\n"
     ]
    }
   ],
   "source": [
    "print(f\"내 전화번호 는 {dic ['phone']} 입니다.\")"
   ]
  },
  {
   "cell_type": "code",
   "execution_count": 42,
   "id": "29ca0e85-4746-4faa-8912-425c7b991812",
   "metadata": {},
   "outputs": [
    {
     "data": {
      "text/plain": [
       "'0628'"
      ]
     },
     "execution_count": 42,
     "metadata": {},
     "output_type": "execute_result"
    }
   ],
   "source": [
    "# get() key로  value얻기\n",
    "dic.get('birth')"
   ]
  },
  {
   "cell_type": "code",
   "execution_count": 43,
   "id": "e1709e27-6c64-4bbb-9e44-f7f6f77428c6",
   "metadata": {},
   "outputs": [
    {
     "data": {
      "text/plain": [
       "'ajw'"
      ]
     },
     "execution_count": 43,
     "metadata": {},
     "output_type": "execute_result"
    }
   ],
   "source": [
    "dic.get('name')"
   ]
  },
  {
   "cell_type": "code",
   "execution_count": 44,
   "id": "e4c11893-7e34-4011-803a-09feebc9aeb5",
   "metadata": {},
   "outputs": [
    {
     "name": "stdout",
     "output_type": "stream",
     "text": [
      "None\n"
     ]
    }
   ],
   "source": [
    "print(dic.get('age'))"
   ]
  },
  {
   "cell_type": "code",
   "execution_count": 45,
   "id": "f96c5196-1795-4074-aab4-d454b95f408e",
   "metadata": {},
   "outputs": [
    {
     "ename": "KeyError",
     "evalue": "'age'",
     "output_type": "error",
     "traceback": [
      "\u001b[1;31m---------------------------------------------------------------------------\u001b[0m",
      "\u001b[1;31mKeyError\u001b[0m                                  Traceback (most recent call last)",
      "Cell \u001b[1;32mIn[45], line 1\u001b[0m\n\u001b[1;32m----> 1\u001b[0m \u001b[38;5;28mprint\u001b[39m (a[\u001b[38;5;124m'\u001b[39m\u001b[38;5;124mage\u001b[39m\u001b[38;5;124m'\u001b[39m])\n",
      "\u001b[1;31mKeyError\u001b[0m: 'age'"
     ]
    }
   ],
   "source": [
    "print (a['age'])"
   ]
  },
  {
   "cell_type": "code",
   "execution_count": 47,
   "id": "da16ad8f-3e81-45d9-a964-1d5073e25773",
   "metadata": {},
   "outputs": [
    {
     "data": {
      "text/plain": [
       "25"
      ]
     },
     "execution_count": 47,
     "metadata": {},
     "output_type": "execute_result"
    }
   ],
   "source": [
    "dic.get('age',25)"
   ]
  },
  {
   "cell_type": "code",
   "execution_count": 48,
   "id": "e1452ea4-10cf-4b6e-83f5-c371ab39c68e",
   "metadata": {},
   "outputs": [
    {
     "data": {
      "text/plain": [
       "{'name': 'ajw', 'phone': '010-2222-2222', 'birth': '0628', 'age': 28}"
      ]
     },
     "execution_count": 48,
     "metadata": {},
     "output_type": "execute_result"
    }
   ],
   "source": [
    "dic['age']=28\n",
    "dic"
   ]
  },
  {
   "cell_type": "code",
   "execution_count": 49,
   "id": "7122119f-f073-44e9-962d-2c0ff38702bf",
   "metadata": {},
   "outputs": [
    {
     "data": {
      "text/plain": [
       "28"
      ]
     },
     "execution_count": 49,
     "metadata": {},
     "output_type": "execute_result"
    }
   ],
   "source": [
    "dic.get('age', 25)"
   ]
  },
  {
   "cell_type": "code",
   "execution_count": 50,
   "id": "dbe309f9-07cb-43c4-a53f-ff4ba453ad7f",
   "metadata": {},
   "outputs": [
    {
     "data": {
      "text/plain": [
       "{'name': 'ajw', 'phone': '010-2222-2222', 'birth': '0628', 'age': 28}"
      ]
     },
     "execution_count": 50,
     "metadata": {},
     "output_type": "execute_result"
    }
   ],
   "source": [
    "dic"
   ]
  },
  {
   "cell_type": "code",
   "execution_count": 51,
   "id": "487b2e67-3496-4ad5-9de8-7811c538bf23",
   "metadata": {},
   "outputs": [
    {
     "data": {
      "text/plain": [
       "True"
      ]
     },
     "execution_count": 51,
     "metadata": {},
     "output_type": "execute_result"
    }
   ],
   "source": [
    "# in key가 딕셔너리에 존재하는지 여부를 확인\n",
    "'name' in dic"
   ]
  },
  {
   "cell_type": "code",
   "execution_count": 52,
   "id": "3fe677a2-df71-477a-9197-223970eab4fd",
   "metadata": {},
   "outputs": [
    {
     "data": {
      "text/plain": [
       "False"
      ]
     },
     "execution_count": 52,
     "metadata": {},
     "output_type": "execute_result"
    }
   ],
   "source": [
    "'email' in dic"
   ]
  },
  {
   "cell_type": "code",
   "execution_count": null,
   "id": "55b47f0e-7cbb-4fcb-8508-ad6e97002280",
   "metadata": {},
   "outputs": [],
   "source": []
  }
 ],
 "metadata": {
  "kernelspec": {
   "display_name": "Python [conda env:base] *",
   "language": "python",
   "name": "conda-base-py"
  },
  "language_info": {
   "codemirror_mode": {
    "name": "ipython",
    "version": 3
   },
   "file_extension": ".py",
   "mimetype": "text/x-python",
   "name": "python",
   "nbconvert_exporter": "python",
   "pygments_lexer": "ipython3",
   "version": "3.13.5"
  }
 },
 "nbformat": 4,
 "nbformat_minor": 5
}
