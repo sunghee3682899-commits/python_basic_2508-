{
 "cells": [
  {
   "cell_type": "markdown",
   "id": "817aa61e-ea94-4171-9376-bdc3ff196892",
   "metadata": {},
   "source": [
    "## 3-2 자료형 - 문자열"
   ]
  },
  {
   "cell_type": "code",
   "execution_count": 2,
   "id": "c759bade-597a-4df9-b39f-6d04dfe799b5",
   "metadata": {},
   "outputs": [
    {
     "name": "stdout",
     "output_type": "stream",
     "text": [
      "python's favorite food is perl\n",
      "<class 'str'>\n"
     ]
    }
   ],
   "source": [
    "food = \"python's favorite food is perl\"\n",
    "print(food)\n",
    "print(type(food))"
   ]
  },
  {
   "cell_type": "code",
   "execution_count": 5,
   "id": "dbcec464-dc00-4500-9372-dd2738e80861",
   "metadata": {},
   "outputs": [
    {
     "name": "stdout",
     "output_type": "stream",
     "text": [
      "python's favorite food is perl\n",
      "<class 'str'>\n"
     ]
    }
   ],
   "source": [
    "food = \"python's favorite food is perl\"\n",
    "print(food)\n",
    "print(type(food))"
   ]
  },
  {
   "cell_type": "code",
   "execution_count": 6,
   "id": "8f106fdf-dd4a-48b4-8824-0a2bc496ac88",
   "metadata": {},
   "outputs": [
    {
     "name": "stdout",
     "output_type": "stream",
     "text": [
      "python's favorite food is perl\n",
      "<class 'str'>\n"
     ]
    }
   ],
   "source": [
    "food = \"python\\'s favorite food is perl\"\n",
    "print(food)\n",
    "print(type(food))"
   ]
  },
  {
   "cell_type": "code",
   "execution_count": 9,
   "id": "226a2af2-daa7-4fe7-8915-2a8193266bc7",
   "metadata": {},
   "outputs": [
    {
     "data": {
      "text/plain": [
       "'\"python is vert easy\" he says.'"
      ]
     },
     "execution_count": 9,
     "metadata": {},
     "output_type": "execute_result"
    }
   ],
   "source": [
    "say = '\"python is vert easy\" he says.'\n",
    "say"
   ]
  },
  {
   "cell_type": "code",
   "execution_count": 10,
   "id": "61995756-a412-4c1c-a81d-1d6f1ba25ffa",
   "metadata": {},
   "outputs": [
    {
     "name": "stdout",
     "output_type": "stream",
     "text": [
      "\"python is vert easy\" he says.\n"
     ]
    }
   ],
   "source": [
    "print (say)"
   ]
  },
  {
   "cell_type": "markdown",
   "id": "4890d834-4959-4f24-96f1-f276889c8445",
   "metadata": {},
   "source": [
    "### 여러줄 문자열"
   ]
  },
  {
   "cell_type": "code",
   "execution_count": 16,
   "id": "78fcc73e-a6f0-40fd-b5a5-762959c2cf53",
   "metadata": {},
   "outputs": [
    {
     "name": "stdout",
     "output_type": "stream",
     "text": [
      "life is too short youneed python\n"
     ]
    }
   ],
   "source": [
    "multilin = \"life is too short youneed python\"\n",
    "print(multilin)"
   ]
  },
  {
   "cell_type": "markdown",
   "id": "180d4a01-3a59-4502-b6ba-4007b086eaf5",
   "metadata": {},
   "source": []
  },
  {
   "cell_type": "markdown",
   "id": "57081420-2cf3-4b50-998c-d5b645e90097",
   "metadata": {},
   "source": [
    "### 문자열 연산"
   ]
  },
  {
   "cell_type": "code",
   "execution_count": 19,
   "id": "318b70b6-76d7-455f-aa7b-8c345b3848be",
   "metadata": {},
   "outputs": [
    {
     "data": {
      "text/plain": [
       "'pythonis fun'"
      ]
     },
     "execution_count": 19,
     "metadata": {},
     "output_type": "execute_result"
    }
   ],
   "source": [
    "head = \"python\"\n",
    "tail = \"is fun\"\n",
    "\n",
    "head + tail"
   ]
  },
  {
   "cell_type": "code",
   "execution_count": 20,
   "id": "056ed6ae-4e52-40e7-9d37-03a8ad44a0cf",
   "metadata": {},
   "outputs": [
    {
     "name": "stdout",
     "output_type": "stream",
     "text": [
      "pppp\n",
      "pppppp\n"
     ]
    }
   ],
   "source": [
    "a = \"pp\"\n",
    "print (a*2)\n",
    "print (a*3)"
   ]
  },
  {
   "cell_type": "code",
   "execution_count": 21,
   "id": "25ec6a9b-8829-4961-bbe3-0d3d661cefc7",
   "metadata": {},
   "outputs": [
    {
     "name": "stdout",
     "output_type": "stream",
     "text": [
      "==================================================\n",
      "python\n"
     ]
    },
    {
     "data": {
      "text/plain": [
       "<function print(*args, sep=' ', end='\\n', file=None, flush=False)>"
      ]
     },
     "execution_count": 21,
     "metadata": {},
     "output_type": "execute_result"
    }
   ],
   "source": [
    "print('='*50)\n",
    "print ('python')\n",
    "print "
   ]
  },
  {
   "cell_type": "markdown",
   "id": "85372ff9-4f7c-4624-8468-10137fecfb57",
   "metadata": {},
   "source": [
    "### 문자열 길이 구하기"
   ]
  },
  {
   "cell_type": "code",
   "execution_count": 23,
   "id": "cfc5401b-af22-4b52-88b7-a65c709e505c",
   "metadata": {},
   "outputs": [
    {
     "data": {
      "text/plain": [
       "8"
      ]
     },
     "execution_count": 23,
     "metadata": {},
     "output_type": "execute_result"
    }
   ],
   "source": [
    "a= \"o  owowo\"\n",
    "len(a)"
   ]
  },
  {
   "cell_type": "markdown",
   "id": "81fe1a2f-4193-4640-a77b-83f3a14c4bcd",
   "metadata": {},
   "source": [
    "### 문자열 인덱싱"
   ]
  },
  {
   "cell_type": "code",
   "execution_count": 28,
   "id": "2dc82f86-2d00-4e0e-a189-c21291e620a5",
   "metadata": {},
   "outputs": [],
   "source": [
    "a = \"life is beautiful\""
   ]
  },
  {
   "cell_type": "code",
   "execution_count": 29,
   "id": "786c4a32-5f0e-4c7f-a3f4-c3a20f9a35a6",
   "metadata": {},
   "outputs": [
    {
     "data": {
      "text/plain": [
       "'l'"
      ]
     },
     "execution_count": 29,
     "metadata": {},
     "output_type": "execute_result"
    }
   ],
   "source": [
    "a[0]"
   ]
  },
  {
   "cell_type": "code",
   "execution_count": 30,
   "id": "68b0887e-a6c3-4ef5-affe-b0dfcbf6c152",
   "metadata": {},
   "outputs": [
    {
     "data": {
      "text/plain": [
       "17"
      ]
     },
     "execution_count": 30,
     "metadata": {},
     "output_type": "execute_result"
    }
   ],
   "source": [
    "len(a)"
   ]
  },
  {
   "cell_type": "code",
   "execution_count": 31,
   "id": "d11dffa1-9bca-41b0-ae98-425bdca1973d",
   "metadata": {},
   "outputs": [
    {
     "data": {
      "text/plain": [
       "'u'"
      ]
     },
     "execution_count": 31,
     "metadata": {},
     "output_type": "execute_result"
    }
   ],
   "source": [
    "a [-2] #뒤에서 두번쨰"
   ]
  },
  {
   "cell_type": "markdown",
   "id": "2cbd3c85-b4f0-4af2-b4ed-96624d808a1b",
   "metadata": {},
   "source": [
    "### 문자열 슬라이싱"
   ]
  },
  {
   "cell_type": "code",
   "execution_count": 32,
   "id": "440492a3-6177-4fc6-89f3-1c614c51be87",
   "metadata": {},
   "outputs": [
    {
     "name": "stdout",
     "output_type": "stream",
     "text": [
      "life\n"
     ]
    }
   ],
   "source": [
    "b = a [0] + a[1] + a[2] + a[3] \n",
    "print(b)"
   ]
  },
  {
   "cell_type": "code",
   "execution_count": 33,
   "id": "96a6236c-a45b-4ed5-9d0e-64e84a781c79",
   "metadata": {},
   "outputs": [
    {
     "data": {
      "text/plain": [
       "'life'"
      ]
     },
     "execution_count": 33,
     "metadata": {},
     "output_type": "execute_result"
    }
   ],
   "source": [
    "a[0:4]"
   ]
  },
  {
   "cell_type": "code",
   "execution_count": 34,
   "id": "cb12ada7-2af8-4b0c-b1b0-ae9f8e927e1f",
   "metadata": {},
   "outputs": [
    {
     "data": {
      "text/plain": [
       "'tiful'"
      ]
     },
     "execution_count": 34,
     "metadata": {},
     "output_type": "execute_result"
    }
   ],
   "source": [
    "# 문자열에서 short문자 슬라이싱\n",
    "a[12:17]"
   ]
  },
  {
   "cell_type": "code",
   "execution_count": 36,
   "id": "828caa7b-b2b6-4f8f-8d3f-cec26b464a5b",
   "metadata": {},
   "outputs": [
    {
     "data": {
      "text/plain": [
       "''"
      ]
     },
     "execution_count": 36,
     "metadata": {},
     "output_type": "execute_result"
    }
   ],
   "source": [
    "# need\n",
    "a [23:25]"
   ]
  },
  {
   "cell_type": "code",
   "execution_count": 38,
   "id": "2bf11e5b-0b9c-4a37-9649-3180fda24c89",
   "metadata": {},
   "outputs": [
    {
     "data": {
      "text/plain": [
       "'fe is beautiful'"
      ]
     },
     "execution_count": 38,
     "metadata": {},
     "output_type": "execute_result"
    }
   ],
   "source": [
    "a[2:]"
   ]
  },
  {
   "cell_type": "code",
   "execution_count": 39,
   "id": "f1b4ad5a-62c3-4f69-a72b-f68fc71bb40f",
   "metadata": {},
   "outputs": [
    {
     "data": {
      "text/plain": [
       "'life'"
      ]
     },
     "execution_count": 39,
     "metadata": {},
     "output_type": "execute_result"
    }
   ],
   "source": [
    "a[:4]"
   ]
  },
  {
   "cell_type": "code",
   "execution_count": 40,
   "id": "045e95c2-44fa-4949-80ec-4f55091cfb54",
   "metadata": {},
   "outputs": [
    {
     "data": {
      "text/plain": [
       "'tiful'"
      ]
     },
     "execution_count": 40,
     "metadata": {},
     "output_type": "execute_result"
    }
   ],
   "source": [
    "a[12:]"
   ]
  },
  {
   "cell_type": "code",
   "execution_count": 41,
   "id": "17825352-359a-4679-8379-58792b070cdb",
   "metadata": {},
   "outputs": [
    {
     "data": {
      "text/plain": [
       "'utifu'"
      ]
     },
     "execution_count": 41,
     "metadata": {},
     "output_type": "execute_result"
    }
   ],
   "source": [
    "a[11:-1]"
   ]
  },
  {
   "cell_type": "code",
   "execution_count": 42,
   "id": "d9cf949f-a6f8-470b-a070-1deb5f25474b",
   "metadata": {},
   "outputs": [
    {
     "name": "stdout",
     "output_type": "stream",
     "text": [
      "<class 'str'>\n"
     ]
    }
   ],
   "source": [
    "a =\"123\"\n",
    "print(type(a))"
   ]
  },
  {
   "cell_type": "code",
   "execution_count": null,
   "id": "56c1cf6c-720f-4bc4-bf4b-8a7d300ad67c",
   "metadata": {},
   "outputs": [],
   "source": []
  }
 ],
 "metadata": {
  "kernelspec": {
   "display_name": "Python [conda env:base] *",
   "language": "python",
   "name": "conda-base-py"
  },
  "language_info": {
   "codemirror_mode": {
    "name": "ipython",
    "version": 3
   },
   "file_extension": ".py",
   "mimetype": "text/x-python",
   "name": "python",
   "nbconvert_exporter": "python",
   "pygments_lexer": "ipython3",
   "version": "3.13.5"
  }
 },
 "nbformat": 4,
 "nbformat_minor": 5
}
