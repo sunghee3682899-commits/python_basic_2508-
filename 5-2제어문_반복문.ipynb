{
 "cells": [
  {
   "cell_type": "markdown",
   "id": "aa633351-cb4a-4652-a2fc-de8410f499bf",
   "metadata": {},
   "source": [
    "## 1. while문"
   ]
  },
  {
   "cell_type": "code",
   "execution_count": 3,
   "id": "f36f81eb-0b08-4198-8119-ddb5eb6884f7",
   "metadata": {},
   "outputs": [
    {
     "ename": "NameError",
     "evalue": "name 'treeHIit' is not defined",
     "output_type": "error",
     "traceback": [
      "\u001b[1;31m---------------------------------------------------------------------------\u001b[0m",
      "\u001b[1;31mNameError\u001b[0m                                 Traceback (most recent call last)",
      "Cell \u001b[1;32mIn[3], line 3\u001b[0m\n\u001b[0;32m      1\u001b[0m treeHit \u001b[38;5;241m=\u001b[39m \u001b[38;5;241m0\u001b[39m\n\u001b[0;32m      2\u001b[0m \u001b[38;5;28;01mwhile\u001b[39;00m treeHit \u001b[38;5;241m<\u001b[39m \u001b[38;5;241m10\u001b[39m:\n\u001b[1;32m----> 3\u001b[0m     treeHit \u001b[38;5;241m=\u001b[39m treeHIit \u001b[38;5;241m+\u001b[39m \u001b[38;5;241m1\u001b[39m  \u001b[38;5;66;03m#treeHit = treeHit + 1\u001b[39;00m\n\u001b[0;32m      4\u001b[0m     \u001b[38;5;28mprint\u001b[39m(\u001b[38;5;124m'\u001b[39m\u001b[38;5;124m나무를 \u001b[39m\u001b[38;5;132;01m%d\u001b[39;00m\u001b[38;5;124m번 찍었습니다.\u001b[39m\u001b[38;5;124m'\u001b[39m \u001b[38;5;241m%\u001b[39mtreeHit)\n\u001b[0;32m      5\u001b[0m     \u001b[38;5;28;01mif\u001b[39;00m treeHit \u001b[38;5;241m==\u001b[39m \u001b[38;5;241m10\u001b[39m:\n",
      "\u001b[1;31mNameError\u001b[0m: name 'treeHIit' is not defined"
     ]
    }
   ],
   "source": [
    "treeHit = 0\n",
    "while treeHit < 10:\n",
    "    treeHit = treeHIit + 1  #treeHit = treeHit + 1\n",
    "    print('나무를 %d번 찍었습니다.' %treeHit)\n",
    "    if treeHit == 10:\n",
    "        print(\"나무가 넘어갑니다.\")"
   ]
  },
  {
   "cell_type": "code",
   "execution_count": 10,
   "id": "13d501b5-5331-4d61-bb8c-222c90f16f60",
   "metadata": {},
   "outputs": [],
   "source": [
    "prompt = \"\"\"\n",
    "1. Add\n",
    "2. Del\n",
    "3. List \n",
    "4. Quit \n",
    "\n",
    "Enter number: \"\"\""
   ]
  },
  {
   "cell_type": "code",
   "execution_count": 11,
   "id": "496416a3-e1b6-4b32-9478-e4f902b6e1bb",
   "metadata": {},
   "outputs": [
    {
     "ename": "NameError",
     "evalue": "name 'whi' is not defined",
     "output_type": "error",
     "traceback": [
      "\u001b[1;31m---------------------------------------------------------------------------\u001b[0m",
      "\u001b[1;31mNameError\u001b[0m                                 Traceback (most recent call last)",
      "Cell \u001b[1;32mIn[11], line 2\u001b[0m\n\u001b[0;32m      1\u001b[0m number \u001b[38;5;241m=\u001b[39m \u001b[38;5;241m0\u001b[39m\n\u001b[1;32m----> 2\u001b[0m whi\n",
      "\u001b[1;31mNameError\u001b[0m: name 'whi' is not defined"
     ]
    }
   ],
   "source": [
    "number = 0\n",
    "whi\n"
   ]
  },
  {
   "cell_type": "code",
   "execution_count": 26,
   "id": "d853c0ef-5b6e-4e84-b101-4090a19a3e0f",
   "metadata": {},
   "outputs": [
    {
     "ename": "IndentationError",
     "evalue": "expected an indented block after 'if' statement on line 9 (3371672332.py, line 10)",
     "output_type": "error",
     "traceback": [
      "\u001b[1;36m  Cell \u001b[1;32mIn[26], line 10\u001b[1;36m\u001b[0m\n\u001b[1;33m    print (\"커피가 다 떨어졌습니다. 판매를 중지합니다\")\u001b[0m\n\u001b[1;37m    ^\u001b[0m\n\u001b[1;31mIndentationError\u001b[0m\u001b[1;31m:\u001b[0m expected an indented block after 'if' statement on line 9\n"
     ]
    }
   ],
   "source": [
    "# bereak문 : while문 강제로 빠져나가기\n",
    "coffee = 10\n",
    "money = 300\n",
    "\n",
    "while money:\n",
    "    print(\"돈을 받았으니 커피를줍니다.\")\n",
    "    coffe -= 1 \n",
    "    print(\"남은 커피의 양은 %d개 입니다. \" %coffee )\n",
    "if coffee == 0:\n",
    "print (\"커피가 다 떨어졌습니다. 판매를 중지합니다\")"
   ]
  },
  {
   "cell_type": "code",
   "execution_count": 19,
   "id": "ecd54746-48e8-4c43-8811-d179f31af1f9",
   "metadata": {},
   "outputs": [
    {
     "name": "stdout",
     "output_type": "stream",
     "text": [
      "돈을 넣어 주세요\n"
     ]
    },
    {
     "ename": "NameError",
     "evalue": "name 'coffe' is not defined",
     "output_type": "error",
     "traceback": [
      "\u001b[1;31m---------------------------------------------------------------------------\u001b[0m",
      "\u001b[1;31mNameError\u001b[0m                                 Traceback (most recent call last)",
      "Cell \u001b[1;32mIn[19], line 6\u001b[0m\n\u001b[0;32m      4\u001b[0m \u001b[38;5;28;01mwhile\u001b[39;00m money:\n\u001b[0;32m      5\u001b[0m     \u001b[38;5;28mprint\u001b[39m(\u001b[38;5;124m\"\u001b[39m\u001b[38;5;124m돈을 넣어 주세요\u001b[39m\u001b[38;5;124m\"\u001b[39m)\n\u001b[1;32m----> 6\u001b[0m     coffe \u001b[38;5;241m-\u001b[39m\u001b[38;5;241m=\u001b[39m \u001b[38;5;241m1\u001b[39m \n\u001b[0;32m      7\u001b[0m     \u001b[38;5;28mprint\u001b[39m(\u001b[38;5;124m\"\u001b[39m\u001b[38;5;124m거스름돈 \u001b[39m\u001b[38;5;132;01m%d\u001b[39;00m\u001b[38;5;124m를 주고 커피를 줍니다. \u001b[39m\u001b[38;5;124m\"\u001b[39m \u001b[38;5;241m%\u001b[39mmoney\u001b[38;5;241m-\u001b[39m\u001b[38;5;241m300\u001b[39m )\n\u001b[0;32m      8\u001b[0m \u001b[38;5;28;01melse\u001b[39;00m:\n",
      "\u001b[1;31mNameError\u001b[0m: name 'coffe' is not defined"
     ]
    }
   ],
   "source": [
    "coffee = 10\n",
    "money = 300\n",
    "\n",
    "while money:\n",
    "    print(\"돈을 넣어 주세요\")\n",
    "    coffe -= 1 \n",
    "    print(\"거스름돈 %d를 주고 커피를 줍니다. \" %money-300 )\n",
    "else:\n",
    "    print(\"돈을 다시 돌려주고 커피를 주지 않습니다\")\n",
    "    print(\"남은 커피의 양은 %d개 입니다.\" %coffee)\n",
    "    if coffee == 0:\n",
    "        print(\"커피가 다 떨어졌습니다. 판매를 중지 합니다\")"
   ]
  },
  {
   "cell_type": "code",
   "execution_count": 28,
   "id": "ce48d8e1-3f04-49c1-8552-5a4a5750f84f",
   "metadata": {},
   "outputs": [
    {
     "name": "stdout",
     "output_type": "stream",
     "text": [
      "10\n"
     ]
    }
   ],
   "source": [
    "a = 0\n",
    "while a<10:\n",
    "  a += 1\n",
    "  if a%2==0: \n",
    "    continue\n",
    "print(a)"
   ]
  },
  {
   "cell_type": "markdown",
   "id": "bb157d9e-f545-47fe-ad3c-034d2c538d29",
   "metadata": {},
   "source": [
    "### 2.for문"
   ]
  },
  {
   "cell_type": "code",
   "execution_count": 1,
   "id": "7fd4b951-be0f-4b20-8051-f3e7a6f6c0ab",
   "metadata": {},
   "outputs": [
    {
     "name": "stdout",
     "output_type": "stream",
     "text": [
      "one\n",
      "two\n",
      "three\n"
     ]
    }
   ],
   "source": [
    "test_list = ['one','two','three']\n",
    "\n",
    "for i in test_list:\n",
    "     print(i)\n",
    "    "
   ]
  },
  {
   "cell_type": "code",
   "execution_count": 2,
   "id": "0132b89a-e739-46e5-837c-ab8efca3c156",
   "metadata": {},
   "outputs": [
    {
     "name": "stdout",
     "output_type": "stream",
     "text": [
      "(5, 6)\n",
      "5\n"
     ]
    }
   ],
   "source": [
    "a =[(1,2), (3,4),(5,6)]\n",
    "print(a[2])\n",
    "print(a[2][0])"
   ]
  },
  {
   "cell_type": "code",
   "execution_count": 3,
   "id": "baaf0390-8d20-415a-83c2-b8a2ce854e6a",
   "metadata": {},
   "outputs": [
    {
     "name": "stdout",
     "output_type": "stream",
     "text": [
      "3\n",
      "7\n",
      "11\n"
     ]
    }
   ],
   "source": [
    "for (first, last) in a:\n",
    "    print(first + last)"
   ]
  },
  {
   "cell_type": "code",
   "execution_count": 4,
   "id": "b6b671f9-a0f1-4912-88d9-e4440004a3af",
   "metadata": {},
   "outputs": [
    {
     "name": "stdout",
     "output_type": "stream",
     "text": [
      "(1, 2)\n",
      "(3, 4)\n",
      "(5, 6)\n"
     ]
    }
   ],
   "source": [
    "for i in a:\n",
    "    print(i)"
   ]
  },
  {
   "cell_type": "code",
   "execution_count": 34,
   "id": "a66eacd4-0d3b-475f-8793-f0b39ab03468",
   "metadata": {},
   "outputs": [
    {
     "ename": "IndentationError",
     "evalue": "expected an indented block after 'if' statement on line 6 (2045278924.py, line 7)",
     "output_type": "error",
     "traceback": [
      "\u001b[1;36m  Cell \u001b[1;32mIn[34], line 7\u001b[1;36m\u001b[0m\n\u001b[1;33m    continue\u001b[0m\n\u001b[1;37m    ^\u001b[0m\n\u001b[1;31mIndentationError\u001b[0m\u001b[1;31m:\u001b[0m expected an indented block after 'if' statement on line 6\n"
     ]
    }
   ],
   "source": [
    "marks = [90,25,67,45,80] \n",
    "number = 0 \n",
    "\n",
    "for mark in range(len(marks)): #range(5) ; 0 ~4\n",
    "    number += 1\n",
    "    if mark[number] < 60:\n",
    "    continue\n",
    "    print(\"%d번 학생은 합격입니다.\" %(number+1))"
   ]
  },
  {
   "cell_type": "code",
   "execution_count": 27,
   "id": "87defb5f-0ce4-49d3-aefc-df907c17d74f",
   "metadata": {},
   "outputs": [
    {
     "name": "stdout",
     "output_type": "stream",
     "text": [
      "range(0, 10)\n",
      "<class 'range'>\n"
     ]
    }
   ],
   "source": [
    "a = range (10)\n",
    "print (a)\n",
    "print(type(a))"
   ]
  },
  {
   "cell_type": "code",
   "execution_count": 21,
   "id": "14133cbd-9f1a-4415-8214-e9609fc815e6",
   "metadata": {},
   "outputs": [
    {
     "data": {
      "text/plain": [
       "[1, 2, 3, 4, 5, 6, 7, 8, 9, 10]"
      ]
     },
     "execution_count": 21,
     "metadata": {},
     "output_type": "execute_result"
    }
   ],
   "source": [
    "a = list (range(1,11))\n",
    "a"
   ]
  },
  {
   "cell_type": "code",
   "execution_count": 22,
   "id": "15689157-ef7b-4400-ba16-94d935e1c440",
   "metadata": {},
   "outputs": [
    {
     "data": {
      "text/plain": [
       "[15, 16, 17, 18, 19, 20]"
      ]
     },
     "execution_count": 22,
     "metadata": {},
     "output_type": "execute_result"
    }
   ],
   "source": [
    "a = list (range(15, 21))\n",
    "a"
   ]
  },
  {
   "cell_type": "code",
   "execution_count": 25,
   "id": "22f98dc6-945b-4a83-8479-b8eb6706ca1d",
   "metadata": {},
   "outputs": [
    {
     "name": "stdout",
     "output_type": "stream",
     "text": [
      "--------------------\n",
      "1\n",
      "--------------------\n",
      "3\n",
      "--------------------\n",
      "6\n",
      "--------------------\n",
      "10\n",
      "--------------------\n",
      "15\n",
      "--------------------\n",
      "21\n",
      "--------------------\n",
      "28\n",
      "--------------------\n",
      "36\n",
      "--------------------\n",
      "45\n",
      "--------------------\n",
      "55\n"
     ]
    }
   ],
   "source": [
    "add = 0\n",
    "\n",
    "for i in range (1, 11):\n",
    "    add += i \n",
    "    print(\"-\"*20)\n",
    "    print(add) "
   ]
  },
  {
   "cell_type": "code",
   "execution_count": 42,
   "id": "ed2d6d2a-0afc-4b2e-9d48-41d4c0213e30",
   "metadata": {},
   "outputs": [
    {
     "ename": "IndentationError",
     "evalue": "expected an indented block after 'for' statement on line 3 (2286239396.py, line 4)",
     "output_type": "error",
     "traceback": [
      "\u001b[1;36m  Cell \u001b[1;32mIn[42], line 4\u001b[1;36m\u001b[0m\n\u001b[1;33m    print (\"%d * %d = %d\"%(i ,j,i*j))\u001b[0m\n\u001b[1;37m    ^\u001b[0m\n\u001b[1;31mIndentationError\u001b[0m\u001b[1;31m:\u001b[0m expected an indented block after 'for' statement on line 3\n"
     ]
    }
   ],
   "source": [
    "# 구구단\n",
    "for i in range (2, 10):\n",
    "    for j in range(1, 10):\n",
    "    print (\"%d * %d = %d\"%(i ,j,i*j))"
   ]
  },
  {
   "cell_type": "markdown",
   "id": "0ae379e4-f011-4225-9d25-66baea46e198",
   "metadata": {},
   "source": [
    "### 리스트 컴프리헨션 "
   ]
  },
  {
   "cell_type": "code",
   "execution_count": 44,
   "id": "05c89687-f546-44ab-baf3-721bae211009",
   "metadata": {},
   "outputs": [
    {
     "name": "stdout",
     "output_type": "stream",
     "text": [
      "[3]\n",
      "[3, 6]\n",
      "[3, 6, 9]\n",
      "[3, 6, 9, 12]\n"
     ]
    }
   ],
   "source": [
    "a = [1,2,3,4]\n",
    "result = []\n",
    "\n",
    "for num in a:\n",
    "    result.append(num*3)\n",
    "\n",
    "    print(result)"
   ]
  },
  {
   "cell_type": "code",
   "execution_count": 46,
   "id": "21a3ad5a-2dfa-487b-862d-a6ca035b27e5",
   "metadata": {},
   "outputs": [
    {
     "name": "stdout",
     "output_type": "stream",
     "text": [
      "[3, 6, 9, 12]\n"
     ]
    }
   ],
   "source": [
    "# 리스트 컴프리헨션으로 표현\n",
    "a = [1,2,3,4]\n",
    "result= [num*3 for num in a]\n",
    "print (result)"
   ]
  },
  {
   "cell_type": "code",
   "execution_count": 48,
   "id": "8af7cd89-4ab2-441d-97cb-06c0a54bebcd",
   "metadata": {},
   "outputs": [
    {
     "name": "stdout",
     "output_type": "stream",
     "text": [
      "[6, 12]\n"
     ]
    }
   ],
   "source": [
    "a= [1,2,3,4]\n",
    "result = [num*3 for num in a if num%2==0]\n",
    "print(result)"
   ]
  },
  {
   "cell_type": "code",
   "execution_count": 49,
   "id": "145420a4-29ca-4c82-8df0-54fc2341c11b",
   "metadata": {},
   "outputs": [
    {
     "name": "stdout",
     "output_type": "stream",
     "text": [
      "[2, 4, 6, 8, 10, 12, 14, 16, 18, 3, 6, 9, 12, 15, 18, 21, 24, 27, 4, 8, 12, 16, 20, 24, 28, 32, 36, 5, 10, 15, 20, 25, 30, 35, 40, 45, 6, 12, 18, 24, 30, 36, 42, 48, 54, 7, 14, 21, 28, 35, 42, 49, 56, 63, 8, 16, 24, 32, 40, 48, 56, 64, 72, 9, 18, 27, 36, 45, 54, 63, 72, 81]\n"
     ]
    }
   ],
   "source": [
    "result = [x*y for x in range (2,10) for y in range (1,10)]\n",
    "print(result)"
   ]
  },
  {
   "cell_type": "markdown",
   "id": "fb8d433b-4fcd-4a41-b4e8-6000129ee50d",
   "metadata": {},
   "source": [
    "### 3. 리스트 컴프리헨션"
   ]
  },
  {
   "cell_type": "markdown",
   "id": "ddfe522f-4554-46e5-be50-0b47ba9ca665",
   "metadata": {},
   "source": [
    "### 1) 기본구조 : [표현식 + for문]"
   ]
  },
  {
   "cell_type": "code",
   "execution_count": 51,
   "id": "87ade413-208d-4239-8003-f1b7dfcfadd3",
   "metadata": {},
   "outputs": [
    {
     "name": "stdout",
     "output_type": "stream",
     "text": [
      "[0, 1, 2, 3, 4]\n"
     ]
    }
   ],
   "source": [
    "# 표현식에 변수또는 상수를 쓰는 경우\n",
    "n= 5\n",
    "result =[i for i in range(n)]\n",
    "print(result)"
   ]
  },
  {
   "cell_type": "code",
   "execution_count": 55,
   "id": "66790e32-68a1-48ef-9d3c-86450381d9ae",
   "metadata": {},
   "outputs": [
    {
     "name": "stdout",
     "output_type": "stream",
     "text": [
      "[0, 1, 2, 3, 4, 5, 6, 7, 8, 9]\n"
     ]
    }
   ],
   "source": [
    "array = list(range(10)) #[0,1,2,3,4,5,6,7,8,9]\n",
    "result =[n for n in array]\n",
    "print(result)"
   ]
  },
  {
   "cell_type": "code",
   "execution_count": 56,
   "id": "50844204-ce44-464b-b951-32bfa045d251",
   "metadata": {},
   "outputs": [
    {
     "name": "stdout",
     "output_type": "stream",
     "text": [
      "[0, 1, 4, 9, 16, 25, 36, 49, 64, 81]\n"
     ]
    }
   ],
   "source": [
    "result = [n*n for n in array]\n",
    "print(result)"
   ]
  },
  {
   "cell_type": "code",
   "execution_count": 57,
   "id": "c2a01d95-9f2d-4594-889d-a3e6c3855bd9",
   "metadata": {},
   "outputs": [
    {
     "name": "stdout",
     "output_type": "stream",
     "text": [
      "[4, 13, 6]\n"
     ]
    }
   ],
   "source": [
    "str_array = [\"List\", \"comprehension\", \"python\"]\n",
    "result = [len(string) for string in str_array]\n",
    "print(result)"
   ]
  },
  {
   "cell_type": "code",
   "execution_count": 58,
   "id": "ee3a571f-71b3-4551-8477-6224a191921e",
   "metadata": {},
   "outputs": [
    {
     "name": "stdout",
     "output_type": "stream",
     "text": [
      "[0, 1, 2, 3, 4, 0, 1, 2, 3, 4]\n"
     ]
    }
   ],
   "source": [
    "def mod_5 (number):\n",
    "    return number%5\n",
    "\n",
    "result = [mod_5(n) for n in array]\n",
    "print(result)"
   ]
  },
  {
   "cell_type": "markdown",
   "id": "51dc616f-c5df-4566-82e9-b02104153c3b",
   "metadata": {},
   "source": [
    "### 2) [표현식 + for문 +조건문]"
   ]
  },
  {
   "cell_type": "code",
   "execution_count": 59,
   "id": "6381884a-889e-4486-8d3a-2502f1b52ecf",
   "metadata": {},
   "outputs": [
    {
     "name": "stdout",
     "output_type": "stream",
     "text": [
      "[1, 3, 5, 7, 9]\n"
     ]
    }
   ],
   "source": [
    "# if문 한 번 사용한 경우\n",
    "result = [n for n in range(10) if n%2!=0]\n",
    "print(result)"
   ]
  },
  {
   "cell_type": "code",
   "execution_count": 60,
   "id": "f5d24282-1b86-482e-ba3b-32c1514db4e6",
   "metadata": {},
   "outputs": [
    {
     "name": "stdout",
     "output_type": "stream",
     "text": [
      "[24, 5, 2]\n"
     ]
    }
   ],
   "source": [
    "array = [-1, 0, -4, 24, 5, -10, 2]\n",
    "result = [n for n in array if n>0]\n",
    "print (result)"
   ]
  },
  {
   "cell_type": "code",
   "execution_count": 61,
   "id": "91e0469b-1000-4a8c-917b-c91729d59a89",
   "metadata": {},
   "outputs": [
    {
     "name": "stdout",
     "output_type": "stream",
     "text": [
      "[3, 9, 15, 21, 27, 33, 39, 45]\n"
     ]
    }
   ],
   "source": [
    "result = [n for n in range(50)if n%3==0 if n%2 !=0]\n",
    "print(result)"
   ]
  },
  {
   "cell_type": "code",
   "execution_count": 62,
   "id": "8f34ef4e-8b94-4630-b6cd-9a10a21fba3b",
   "metadata": {},
   "outputs": [
    {
     "name": "stdout",
     "output_type": "stream",
     "text": [
      "[3, 9, 15, 21, 27, 33, 39, 45]\n"
     ]
    }
   ],
   "source": [
    "result =[ n for n  in range(50) if n%3==0 and n%2!=0] \n",
    "print(result)"
   ]
  },
  {
   "cell_type": "markdown",
   "id": "4c86c51d-628d-46c8-94cb-8bd82df47f87",
   "metadata": {},
   "source": [
    "## 중첩 for 문"
   ]
  },
  {
   "cell_type": "code",
   "execution_count": 64,
   "id": "1ebb5514-9588-4203-85bf-9e7a35681657",
   "metadata": {},
   "outputs": [
    {
     "ename": "SyntaxError",
     "evalue": "expected ':' (1932880313.py, line 4)",
     "output_type": "error",
     "traceback": [
      "\u001b[1;36m  Cell \u001b[1;32mIn[64], line 4\u001b[1;36m\u001b[0m\n\u001b[1;33m    for j in rang(1,3)\u001b[0m\n\u001b[1;37m                      ^\u001b[0m\n\u001b[1;31mSyntaxError\u001b[0m\u001b[1;31m:\u001b[0m expected ':'\n"
     ]
    }
   ],
   "source": [
    "# 중첩 for 문 \n",
    "pos =[]\n",
    "for i in range (1,4):\n",
    "    for j in rang(1,3)\n",
    "    pos.append(i,j)\n",
    "\n",
    "print(pos)\n"
   ]
  },
  {
   "cell_type": "code",
   "execution_count": null,
   "id": "bd4f136c-bd32-496b-ad27-9d0707f763a7",
   "metadata": {},
   "outputs": [],
   "source": []
  }
 ],
 "metadata": {
  "kernelspec": {
   "display_name": "Python [conda env:base] *",
   "language": "python",
   "name": "conda-base-py"
  },
  "language_info": {
   "codemirror_mode": {
    "name": "ipython",
    "version": 3
   },
   "file_extension": ".py",
   "mimetype": "text/x-python",
   "name": "python",
   "nbconvert_exporter": "python",
   "pygments_lexer": "ipython3",
   "version": "3.13.5"
  }
 },
 "nbformat": 4,
 "nbformat_minor": 5
}
